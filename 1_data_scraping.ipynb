{
 "cells": [
  {
   "cell_type": "code",
   "execution_count": 1,
   "metadata": {
    "collapsed": false
   },
   "outputs": [],
   "source": [
    "import cPickle as pickle\n",
    "import pandas as pd\n",
    "import math\n",
    "import time\n",
    "from pandas import DataFrame\n",
    "\n",
    "from selenium import webdriver\n",
    "base_path = '/home/hareesh/Research/big_data/project/airbnb/'\n",
    "driver = webdriver.Firefox(executable_path=base_path+'notebooks/geckodriver')\n",
    "driver.set_page_load_timeout(30)\n",
    "driver.maximize_window()"
   ]
  },
  {
   "cell_type": "code",
   "execution_count": 2,
   "metadata": {
    "collapsed": false
   },
   "outputs": [
    {
     "data": {
      "text/plain": [
       "(12029, 95)"
      ]
     },
     "execution_count": 2,
     "metadata": {},
     "output_type": "execute_result"
    }
   ],
   "source": [
    "df_listings = pd.read_csv(base_path+'inside_airbnb/toronto/listings.csv')\n",
    "df_listings.shape"
   ]
  },
  {
   "cell_type": "code",
   "execution_count": 3,
   "metadata": {
    "collapsed": false
   },
   "outputs": [],
   "source": [
    "def open_url_click(driver):\n",
    "    \n",
    "    # Note:XPaths are subject to change on Airbnb site \n",
    "    \n",
    "    # Click more button under Amenities Section\n",
    "    try:\n",
    "        driver.find_element_by_xpath('''//*[@id=\"details\"]/div/div/div/div/div[4]/div[2]/div[1]/div/div[1]/button''').click()\n",
    "    except:\n",
    "        driver.find_element_by_xpath('''//*[@id=\"details\"]/div/div/div/div/div[5]/div[2]/div[1]/div/div[1]/button''').click()\n",
    "    # Some pages have it in a different xpath as mentioned in except block\n",
    "\n",
    "    # Click more button under Description\n",
    "    try:\n",
    "        driver.find_element_by_xpath('''//*[@id=\"house-rules\"]/div[2]/div[2]/div/span/button''').click()\n",
    "    except:\n",
    "        pass\n",
    "\n",
    "    # Click more button under House Rules\n",
    "    try:\n",
    "        driver.find_element_by_xpath('''//*[@id=\"description\"]/div[2]/div/div/span/button''').click()\n",
    "    except:\n",
    "        pass\n",
    "\n"
   ]
  },
  {
   "cell_type": "code",
   "execution_count": null,
   "metadata": {
    "collapsed": false,
    "scrolled": true
   },
   "outputs": [],
   "source": [
    "%%time\n",
    "# url = df_listings.ix[85, 'listing_url']\n",
    "\n",
    "page_saved_dict = {}\n",
    "amenity_dict_available = {}\n",
    "amenity_dict_not_available = {}\n",
    "# error_log = \"\"\n",
    "\n",
    "for k in range(df_listings.shape[0]):\n",
    "\n",
    "    listing_id = df_listings.ix[k, 'id']\n",
    "    url = df_listings.ix[k, 'listing_url']\n",
    "#     url = \"https://www.airbnb.com/rooms/9842943\"\n",
    "    \n",
    "    try:\n",
    "        driver.get(url)\n",
    "        open_url_click(driver)\n",
    "\n",
    "        # Number of travellers who saved this listing to wish list \n",
    "        num_saved = driver.find_element_by_xpath('''//*[@id=\"summary\"]/div/div/div[2]/div[3]/div/div[3]/div[1]/div/div/div/small/span''')\n",
    "        page_saved_dict[listing_id] = int(num_saved.text.split()[0])\n",
    "\n",
    "        amenities = driver.find_elements_by_class_name(\"col-sm-6\")\n",
    "        amenity_ids = [4, 5] # These are the items in the HTML element list that we are interested in\n",
    "        amenity_list = [item.text for i, item in enumerate(amenities) if i in amenity_ids]\n",
    "        nested_list = [item.split('\\n') for item in amenity_list]\n",
    "        amenity_list = [item for sublist in nested_list for item in sublist]\n",
    "\n",
    "        # The ones with space before the amenity is spelled out refers to the ones available at the house\n",
    "        amenity_dict_available[listing_id] = [item.strip() for item in amenity_list if item[0] == ' ']\n",
    "        amenity_dict_not_available[listing_id] = [item.strip() for item in amenity_list if item[0] != ' ']\n",
    "\n",
    "    except Exception as e: # Sometimes the listing would have been removed and the page gets redirected\n",
    "        print str(k) + \" \" + url + \" \" + str(e) + \"\\n\"\n",
    "        continue \n",
    "        \n",
    "    if k%100 == 0:\n",
    "        print k, \"Complete\""
   ]
  },
  {
   "cell_type": "code",
   "execution_count": null,
   "metadata": {
    "collapsed": true
   },
   "outputs": [],
   "source": []
  },
  {
   "cell_type": "code",
   "execution_count": 8,
   "metadata": {
    "collapsed": false
   },
   "outputs": [],
   "source": [
    "with open('temp_pickle_files/toronto_listing_amenities_1', 'wb') as f:\n",
    "    pickle.dump(amenity_dict_available, f)\n",
    "    pickle.dump(amenity_dict_not_available, f)\n",
    "    pickle.dump(page_saved_dict, f)"
   ]
  },
  {
   "cell_type": "code",
   "execution_count": 11,
   "metadata": {
    "collapsed": false
   },
   "outputs": [],
   "source": [
    "with open('temp_pickle_files/toronto_listing_amenities_1', 'rb') as f:\n",
    "    amenity_dict_available = pickle.load(f)\n",
    "    amenity_dict_not_available = pickle.load(f)\n",
    "    page_saved_dict = pickle.load(f)"
   ]
  },
  {
   "cell_type": "code",
   "execution_count": 16,
   "metadata": {
    "collapsed": false
   },
   "outputs": [],
   "source": [
    "# Merge multiple dictionaries from different pickle files (the scraping operation was done in multiple stages) into one\n",
    "amenity_dict_available = {}\n",
    "amenity_dict_not_available = {}\n",
    "page_saved_dict = {}\n",
    "\n",
    "for i in range(1,9):\n",
    "    with open('temp_pickle_files/toronto_listing_amenities_'+str(i), 'rb') as f:\n",
    "        x = pickle.load(f)\n",
    "        y = pickle.load(f)\n",
    "        z = pickle.load(f)\n",
    "\n",
    "        amenity_dict_available = dict(amenity_dict_available.items() + x.items())\n",
    "        amenity_dict_not_available = dict(amenity_dict_not_available.items() + y.items())\n",
    "        page_saved_dict = dict(page_saved_dict.items() + z.items())"
   ]
  },
  {
   "cell_type": "code",
   "execution_count": null,
   "metadata": {
    "collapsed": true
   },
   "outputs": [],
   "source": []
  },
  {
   "cell_type": "code",
   "execution_count": 17,
   "metadata": {
    "collapsed": true
   },
   "outputs": [],
   "source": [
    "with open('toronto_listing_amenities', 'wb') as f:\n",
    "    pickle.dump(amenity_dict_available, f)\n",
    "    pickle.dump(amenity_dict_not_available, f)\n",
    "    pickle.dump(page_saved_dict, f)"
   ]
  },
  {
   "cell_type": "code",
   "execution_count": null,
   "metadata": {
    "collapsed": true
   },
   "outputs": [],
   "source": []
  }
 ],
 "metadata": {
  "kernelspec": {
   "display_name": "Python 2",
   "language": "python",
   "name": "python2"
  },
  "language_info": {
   "codemirror_mode": {
    "name": "ipython",
    "version": 2
   },
   "file_extension": ".py",
   "mimetype": "text/x-python",
   "name": "python",
   "nbconvert_exporter": "python",
   "pygments_lexer": "ipython2",
   "version": "2.7.12"
  }
 },
 "nbformat": 4,
 "nbformat_minor": 1
}
