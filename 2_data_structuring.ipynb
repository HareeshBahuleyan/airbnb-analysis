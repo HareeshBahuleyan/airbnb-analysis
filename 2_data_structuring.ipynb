{
 "cells": [
  {
   "cell_type": "code",
   "execution_count": 1,
   "metadata": {
    "collapsed": true
   },
   "outputs": [],
   "source": [
    "import cPickle as pickle\n",
    "import pandas as pd\n",
    "from pandas import DataFrame\n",
    "base_path = '/home/hareesh/Research/big_data/project/airbnb/'"
   ]
  },
  {
   "cell_type": "code",
   "execution_count": 2,
   "metadata": {
    "collapsed": false
   },
   "outputs": [
    {
     "data": {
      "text/plain": [
       "(12029, 95)"
      ]
     },
     "execution_count": 2,
     "metadata": {},
     "output_type": "execute_result"
    }
   ],
   "source": [
    "df_listings = pd.read_csv(base_path+'inside_airbnb/toronto/listings.csv')\n",
    "df_listings.shape"
   ]
  },
  {
   "cell_type": "code",
   "execution_count": 3,
   "metadata": {
    "collapsed": false
   },
   "outputs": [
    {
     "data": {
      "text/plain": [
       "9795"
      ]
     },
     "execution_count": 3,
     "metadata": {},
     "output_type": "execute_result"
    }
   ],
   "source": [
    "with open('toronto_listing_amenities', 'rb') as f:\n",
    "    amenity_dict_available = pickle.load(f)\n",
    "    amenity_dict_not_available = pickle.load(f)\n",
    "    page_saved_dict = pickle.load(f)\n",
    "    \n",
    "len(page_saved_dict)"
   ]
  },
  {
   "cell_type": "code",
   "execution_count": 4,
   "metadata": {
    "collapsed": false
   },
   "outputs": [
    {
     "name": "stdout",
     "output_type": "stream",
     "text": [
      "Amenities available at sample listing:\n",
      "[u'Free parking on premises', u'Elevator in building', u'Internet', u'Family/kid friendly', u'Wireless Internet', u'Buzzer/wireless intercom', u'Kitchen', u'Doorman', u'Wheelchair accessible', u'Cable TV', u'Hot tub', u'Gym', u'Pool', u'TV', u'Dryer', u'Washer', u'Essentials', u'Shampoo', u'Heating', u'Air conditioning']\n"
     ]
    }
   ],
   "source": [
    "# 9795 listings out of 12029 were scraped - since some listings were removed from airbnb\n",
    "# At other times, selenium failed in scraping the pages\n",
    "sample_id = 3833863\n",
    "print 'Amenities available at sample listing:\\n', amenity_dict_available[sample_id]"
   ]
  },
  {
   "cell_type": "code",
   "execution_count": 5,
   "metadata": {
    "collapsed": false
   },
   "outputs": [
    {
     "name": "stdout",
     "output_type": "stream",
     "text": [
      "Amenities not available at sample listing:\n",
      "[u'Pets allowed', u'Suitable for events', u'Smoking allowed', u'Indoor fireplace', u'Breakfast', u'Laptop friendly workspace', u'Iron', u'Hangers', u'Hair dryer', u'Private living room', u'Private entrance']\n"
     ]
    }
   ],
   "source": [
    "print 'Amenities not available at sample listing:\\n', amenity_dict_not_available[sample_id]"
   ]
  },
  {
   "cell_type": "code",
   "execution_count": 6,
   "metadata": {
    "collapsed": false
   },
   "outputs": [
    {
     "name": "stdout",
     "output_type": "stream",
     "text": [
      "Number of users who have saved this sample listing: 4\n"
     ]
    }
   ],
   "source": [
    "print 'Number of users who have saved this sample listing:', page_saved_dict[sample_id]"
   ]
  },
  {
   "cell_type": "code",
   "execution_count": 7,
   "metadata": {
    "collapsed": false
   },
   "outputs": [],
   "source": [
    "# Create a dataframe for amenities: 1 if present,0 otherwise\n",
    "column_names = amenity_dict_available[sample_id] + amenity_dict_not_available[sample_id] + [u'Paid parking off premises', u'Free parking on street', 'num_page_saved']\n",
    "\n",
    "df_amenities = pd.DataFrame(0, columns=column_names, index=amenity_dict_available.keys())\n",
    "for i in amenity_dict_available.keys():\n",
    "    df_amenities.ix[i,amenity_dict_available[i]] = 1\n",
    "    df_amenities.ix[i, 'num_page_saved'] = page_saved_dict[i]"
   ]
  },
  {
   "cell_type": "code",
   "execution_count": 8,
   "metadata": {
    "collapsed": false
   },
   "outputs": [
    {
     "data": {
      "text/html": [
       "<div>\n",
       "<table border=\"1\" class=\"dataframe\">\n",
       "  <thead>\n",
       "    <tr style=\"text-align: right;\">\n",
       "      <th></th>\n",
       "      <th>Free parking on premises</th>\n",
       "      <th>Elevator in building</th>\n",
       "      <th>Internet</th>\n",
       "      <th>Family/kid friendly</th>\n",
       "      <th>Wireless Internet</th>\n",
       "      <th>Buzzer/wireless intercom</th>\n",
       "      <th>Kitchen</th>\n",
       "      <th>Doorman</th>\n",
       "      <th>Wheelchair accessible</th>\n",
       "      <th>Cable TV</th>\n",
       "      <th>...</th>\n",
       "      <th>Breakfast</th>\n",
       "      <th>Laptop friendly workspace</th>\n",
       "      <th>Iron</th>\n",
       "      <th>Hangers</th>\n",
       "      <th>Hair dryer</th>\n",
       "      <th>Private living room</th>\n",
       "      <th>Private entrance</th>\n",
       "      <th>Paid parking off premises</th>\n",
       "      <th>Free parking on street</th>\n",
       "      <th>num_page_saved</th>\n",
       "    </tr>\n",
       "  </thead>\n",
       "  <tbody>\n",
       "    <tr>\n",
       "      <th>3833863</th>\n",
       "      <td>1</td>\n",
       "      <td>1</td>\n",
       "      <td>1</td>\n",
       "      <td>1</td>\n",
       "      <td>1</td>\n",
       "      <td>1</td>\n",
       "      <td>1</td>\n",
       "      <td>1</td>\n",
       "      <td>1</td>\n",
       "      <td>1</td>\n",
       "      <td>...</td>\n",
       "      <td>0</td>\n",
       "      <td>0</td>\n",
       "      <td>0</td>\n",
       "      <td>0</td>\n",
       "      <td>0</td>\n",
       "      <td>0</td>\n",
       "      <td>0</td>\n",
       "      <td>0</td>\n",
       "      <td>0</td>\n",
       "      <td>4</td>\n",
       "    </tr>\n",
       "    <tr>\n",
       "      <th>13795337</th>\n",
       "      <td>1</td>\n",
       "      <td>1</td>\n",
       "      <td>1</td>\n",
       "      <td>1</td>\n",
       "      <td>1</td>\n",
       "      <td>1</td>\n",
       "      <td>1</td>\n",
       "      <td>1</td>\n",
       "      <td>1</td>\n",
       "      <td>1</td>\n",
       "      <td>...</td>\n",
       "      <td>0</td>\n",
       "      <td>1</td>\n",
       "      <td>1</td>\n",
       "      <td>1</td>\n",
       "      <td>1</td>\n",
       "      <td>0</td>\n",
       "      <td>1</td>\n",
       "      <td>0</td>\n",
       "      <td>0</td>\n",
       "      <td>20</td>\n",
       "    </tr>\n",
       "    <tr>\n",
       "      <th>7602191</th>\n",
       "      <td>1</td>\n",
       "      <td>0</td>\n",
       "      <td>0</td>\n",
       "      <td>0</td>\n",
       "      <td>1</td>\n",
       "      <td>0</td>\n",
       "      <td>1</td>\n",
       "      <td>0</td>\n",
       "      <td>0</td>\n",
       "      <td>0</td>\n",
       "      <td>...</td>\n",
       "      <td>0</td>\n",
       "      <td>1</td>\n",
       "      <td>0</td>\n",
       "      <td>1</td>\n",
       "      <td>0</td>\n",
       "      <td>0</td>\n",
       "      <td>0</td>\n",
       "      <td>0</td>\n",
       "      <td>0</td>\n",
       "      <td>8</td>\n",
       "    </tr>\n",
       "    <tr>\n",
       "      <th>14647315</th>\n",
       "      <td>0</td>\n",
       "      <td>0</td>\n",
       "      <td>1</td>\n",
       "      <td>0</td>\n",
       "      <td>1</td>\n",
       "      <td>0</td>\n",
       "      <td>1</td>\n",
       "      <td>0</td>\n",
       "      <td>0</td>\n",
       "      <td>0</td>\n",
       "      <td>...</td>\n",
       "      <td>0</td>\n",
       "      <td>0</td>\n",
       "      <td>1</td>\n",
       "      <td>1</td>\n",
       "      <td>0</td>\n",
       "      <td>0</td>\n",
       "      <td>0</td>\n",
       "      <td>0</td>\n",
       "      <td>0</td>\n",
       "      <td>22</td>\n",
       "    </tr>\n",
       "    <tr>\n",
       "      <th>7897109</th>\n",
       "      <td>0</td>\n",
       "      <td>1</td>\n",
       "      <td>1</td>\n",
       "      <td>0</td>\n",
       "      <td>1</td>\n",
       "      <td>1</td>\n",
       "      <td>1</td>\n",
       "      <td>0</td>\n",
       "      <td>0</td>\n",
       "      <td>1</td>\n",
       "      <td>...</td>\n",
       "      <td>0</td>\n",
       "      <td>1</td>\n",
       "      <td>1</td>\n",
       "      <td>1</td>\n",
       "      <td>1</td>\n",
       "      <td>0</td>\n",
       "      <td>0</td>\n",
       "      <td>0</td>\n",
       "      <td>0</td>\n",
       "      <td>324</td>\n",
       "    </tr>\n",
       "  </tbody>\n",
       "</table>\n",
       "<p>5 rows × 34 columns</p>\n",
       "</div>"
      ],
      "text/plain": [
       "          Free parking on premises  Elevator in building  Internet  \\\n",
       "3833863                          1                     1         1   \n",
       "13795337                         1                     1         1   \n",
       "7602191                          1                     0         0   \n",
       "14647315                         0                     0         1   \n",
       "7897109                          0                     1         1   \n",
       "\n",
       "          Family/kid friendly  Wireless Internet  Buzzer/wireless intercom  \\\n",
       "3833863                     1                  1                         1   \n",
       "13795337                    1                  1                         1   \n",
       "7602191                     0                  1                         0   \n",
       "14647315                    0                  1                         0   \n",
       "7897109                     0                  1                         1   \n",
       "\n",
       "          Kitchen  Doorman  Wheelchair accessible  Cable TV       ...        \\\n",
       "3833863         1        1                      1         1       ...         \n",
       "13795337        1        1                      1         1       ...         \n",
       "7602191         1        0                      0         0       ...         \n",
       "14647315        1        0                      0         0       ...         \n",
       "7897109         1        0                      0         1       ...         \n",
       "\n",
       "          Breakfast  Laptop friendly workspace  Iron  Hangers  Hair dryer  \\\n",
       "3833863           0                          0     0        0           0   \n",
       "13795337          0                          1     1        1           1   \n",
       "7602191           0                          1     0        1           0   \n",
       "14647315          0                          0     1        1           0   \n",
       "7897109           0                          1     1        1           1   \n",
       "\n",
       "          Private living room  Private entrance  Paid parking off premises  \\\n",
       "3833863                     0                 0                          0   \n",
       "13795337                    0                 1                          0   \n",
       "7602191                     0                 0                          0   \n",
       "14647315                    0                 0                          0   \n",
       "7897109                     0                 0                          0   \n",
       "\n",
       "          Free parking on street  num_page_saved  \n",
       "3833863                        0               4  \n",
       "13795337                       0              20  \n",
       "7602191                        0               8  \n",
       "14647315                       0              22  \n",
       "7897109                        0             324  \n",
       "\n",
       "[5 rows x 34 columns]"
      ]
     },
     "execution_count": 8,
     "metadata": {},
     "output_type": "execute_result"
    }
   ],
   "source": [
    "df_amenities.head()"
   ]
  },
  {
   "cell_type": "code",
   "execution_count": 9,
   "metadata": {
    "collapsed": false
   },
   "outputs": [],
   "source": [
    "# Only Columns required in the analysis are retained\n",
    "req_cols = ['id', 'name', 'summary', 'latitude', 'longitude', 'space', 'description', 'neighborhood_overview', 'notes', 'transit', 'access', \n",
    "'interaction', 'house_rules', 'host_id', 'host_since', 'host_about', 'host_response_time', 'host_response_rate'\n",
    "'host_is_superhost', 'guests_included', 'extra_people', 'minimum_nights', 'number_of_reviews',\n",
    "'review_scores_rating', 'review_scores_accuracy', 'review_scores_cleanliness', 'review_scores_checkin',\n",
    "'review_scores_communication', 'review_scores_location', 'review_scores_value', 'instant_bookable', 'cancellation_policy',\n",
    "'require_guest_profile_picture', 'require_guest_phone_verification', 'calculated_host_listings_count', 'reviews_per_month']\n",
    "\n",
    "df_listings = df_listings.ix[:,req_cols]"
   ]
  },
  {
   "cell_type": "code",
   "execution_count": 10,
   "metadata": {
    "collapsed": false
   },
   "outputs": [
    {
     "data": {
      "text/plain": [
       "(9795, 69)"
      ]
     },
     "execution_count": 10,
     "metadata": {},
     "output_type": "execute_result"
    }
   ],
   "source": [
    "# Merge the 2 dataframe to a single dataframe with the req columns\n",
    "df_amenities.reset_index(inplace=True)\n",
    "df_listings = pd.merge(left = df_listings, right=df_amenities, how='inner', left_on='id', right_on='index')\n",
    "df_listings.drop(['index'], inplace=True, axis=1)\n",
    "df_listings.shape"
   ]
  },
  {
   "cell_type": "code",
   "execution_count": 11,
   "metadata": {
    "collapsed": false
   },
   "outputs": [],
   "source": [
    "# Save dataframe as CSV - can be loaded for data exploration later\n",
    "df_listings.to_csv('listings_with_amenities_dataframe.csv', index=False)"
   ]
  },
  {
   "cell_type": "code",
   "execution_count": null,
   "metadata": {
    "collapsed": true
   },
   "outputs": [],
   "source": []
  }
 ],
 "metadata": {
  "kernelspec": {
   "display_name": "Python 2",
   "language": "python",
   "name": "python2"
  },
  "language_info": {
   "codemirror_mode": {
    "name": "ipython",
    "version": 2
   },
   "file_extension": ".py",
   "mimetype": "text/x-python",
   "name": "python",
   "nbconvert_exporter": "python",
   "pygments_lexer": "ipython2",
   "version": "2.7.12"
  }
 },
 "nbformat": 4,
 "nbformat_minor": 1
}
