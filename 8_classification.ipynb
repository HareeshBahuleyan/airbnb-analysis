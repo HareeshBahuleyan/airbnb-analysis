{
 "cells": [
  {
   "cell_type": "code",
   "execution_count": 2,
   "metadata": {
    "collapsed": true
   },
   "outputs": [],
   "source": [
    "import pandas as pd\n",
    "import numpy as np\n",
    "import cPickle as pickle\n",
    "from sklearn.metrics import confusion_matrix, accuracy_score\n",
    "from sklearn.model_selection import train_test_split\n",
    "from sklearn.model_selection import cross_val_score\n",
    "from sklearn.naive_bayes import GaussianNB\n",
    "from sklearn.naive_bayes import MultinomialNB\n",
    "\n",
    "%matplotlib inline"
   ]
  },
  {
   "cell_type": "markdown",
   "metadata": {},
   "source": [
    "### Function to plot Confusion Matrix"
   ]
  },
  {
   "cell_type": "code",
   "execution_count": 3,
   "metadata": {
    "collapsed": true
   },
   "outputs": [],
   "source": [
    "from matplotlib import pyplot as plt\n",
    "import itertools\n",
    "def plot_confusion_matrix(cm, classes,\n",
    "                          normalize=False,\n",
    "                          title='Confusion matrix',\n",
    "                          cmap=plt.cm.Blues):\n",
    "    \"\"\"\n",
    "    This function prints and plots the confusion matrix.\n",
    "    Normalization can be applied by setting `normalize=True`.\n",
    "    \"\"\"\n",
    "    plt.imshow(cm, interpolation='nearest', cmap=cmap)\n",
    "    plt.title(title)\n",
    "    plt.colorbar()\n",
    "    tick_marks = np.arange(len(classes))\n",
    "    plt.xticks(tick_marks, classes, rotation=45)\n",
    "    plt.yticks(tick_marks, classes)\n",
    "\n",
    "    print(cm)\n",
    "\n",
    "    thresh = cm.max() / 2.\n",
    "    for i, j in itertools.product(range(cm.shape[0]), range(cm.shape[1])):\n",
    "        plt.text(j, i, cm[i, j],\n",
    "                 horizontalalignment=\"center\",\n",
    "                 color=\"white\" if cm[i, j] > thresh else \"black\")\n",
    "\n",
    "    plt.tight_layout()\n",
    "    plt.ylabel('True label')\n",
    "    plt.xlabel('Predicted label')"
   ]
  },
  {
   "cell_type": "code",
   "execution_count": 4,
   "metadata": {
    "collapsed": false
   },
   "outputs": [],
   "source": [
    "# Read data\n",
    "with open('df_amenities_neighbourhood_all_processed.pkl', 'rb') as f:\n",
    "    df = pickle.load(f)"
   ]
  },
  {
   "cell_type": "markdown",
   "metadata": {},
   "source": [
    "### Prepare Target Variable Y = price"
   ]
  },
  {
   "cell_type": "markdown",
   "metadata": {
    "collapsed": true
   },
   "source": [
    "<code>Based on the clustering analysis, we identified that there would be two possible categories of listings:\n",
    "Cheap and Expensive\n",
    "Here, we use a 1-d KMeans clustering to obtain 2 clusters of records. The one with the higher cluster mean corresponds to expensive listings and the lower cluster mean for the cheaper listings. \n",
    "We use these cluster labels as class labels in our binary classification problem."
   ]
  },
  {
   "cell_type": "code",
   "execution_count": 5,
   "metadata": {
    "collapsed": false
   },
   "outputs": [],
   "source": [
    "from sklearn.cluster import KMeans\n",
    "cluster_model = KMeans(n_clusters=2, init='k-means++', random_state=13)\n",
    "cluster_model.fit(df['price'].values.reshape(-1,1))\n",
    "df['price'] = cluster_model.labels_"
   ]
  },
  {
   "cell_type": "code",
   "execution_count": 6,
   "metadata": {
    "collapsed": false
   },
   "outputs": [
    {
     "name": "stdout",
     "output_type": "stream",
     "text": [
      "Cluster center (price) of cheap listings: [ 69.74718915]\n",
      "Cluster center (price) of expensive listings: [ 161.84453518]\n",
      "Data Split\n",
      "0    6048\n",
      "1    3184\n",
      "Name: price, dtype: int64\n"
     ]
    }
   ],
   "source": [
    "print \"Cluster center (price) of cheap listings:\", cluster_model.cluster_centers_[0]\n",
    "print \"Cluster center (price) of expensive listings:\", cluster_model.cluster_centers_[1]\n",
    "print \"Data Split\\n\", df['price'].value_counts() # 0 = Cheap, 1 = Expensive"
   ]
  },
  {
   "cell_type": "markdown",
   "metadata": {},
   "source": [
    "### Preprocessing the Features"
   ]
  },
  {
   "cell_type": "code",
   "execution_count": 7,
   "metadata": {
    "collapsed": false
   },
   "outputs": [
    {
     "name": "stdout",
     "output_type": "stream",
     "text": [
      "(9232, 56)\n"
     ]
    }
   ],
   "source": [
    "# Keep only the columns required for classification\n",
    "cols = ['price', 'minimum_nights', 'number_of_reviews', 'instant_bookable', 'cancellation_policy', \n",
    "        'calculated_host_listings_count', 'num_page_saved',\n",
    "        u'property_type','room_type', 'accommodates', 'bathrooms', 'bedrooms', 'beds', 'bed_type',\n",
    "        'Elevator in building', 'Internet', 'Family/kid friendly', \n",
    "        'Wireless Internet', 'Buzzer/wireless intercom', 'Kitchen', 'Doorman', 'Wheelchair accessible',\n",
    "        'Cable TV', 'Hot tub', 'Gym', 'Pool', 'TV', 'Dryer', 'Washer', 'Essentials', 'Shampoo', 'Heating',\n",
    "        'Air conditioning', 'Pets allowed', 'Suitable for events','Smoking allowed', 'Indoor fireplace', \n",
    "        'Breakfast', 'Laptop friendly workspace', 'Iron', 'Hangers', 'Hair dryer', 'Private living room',\n",
    "        'Private entrance', 'Parking',\n",
    "        'restaurant', 'atm', 'cinema', 'hospital', 'nightclub', 'park', 'mall', 'gallery', 'museum',\n",
    "        'supermarket', 'bus_stop']\n",
    "df = df.ix[:, cols]\n",
    "print df.shape"
   ]
  },
  {
   "cell_type": "code",
   "execution_count": 8,
   "metadata": {
    "collapsed": true
   },
   "outputs": [],
   "source": [
    "# For the distance of neighbourhood facilities from the house, a value of '-1' was assigned \n",
    "# if the facility was absent in the specified threshold radius\n",
    "# replace this -1 with a high distance value \n",
    "# A value of 1.5 times the original threshold radius\n",
    "neighbourhood = {\n",
    "    'restaurant': 1.5*2000,\n",
    "    'atm': 1.5*5000,\n",
    "    'cinema':1.5*15000,\n",
    "    'hospital':1.5*15000,\n",
    "    'nightclub':1.5*10000,\n",
    "    'park':1.5*10000,\n",
    "    'mall':1.5*10000,\n",
    "    'museum':1.5*10000,\n",
    "    'gallery':1.5*10000,\n",
    "    'supermarket':1.5*5000,\n",
    "    'bus_stop':1.5*1000\n",
    "    }\n",
    "\n",
    "for facility in neighbourhood.keys():\n",
    "    for i in range(len(df[facility])):\n",
    "        dist = df.ix[i,facility]\n",
    "        if dist == -1:\n",
    "            df.ix[i,facility] = neighbourhood[facility]"
   ]
  },
  {
   "cell_type": "code",
   "execution_count": 9,
   "metadata": {
    "collapsed": false
   },
   "outputs": [
    {
     "name": "stdout",
     "output_type": "stream",
     "text": [
      "1    3921\n",
      "2    2554\n",
      "4    1568\n",
      "3    1189\n",
      "Name: minimum_nights, dtype: int64\n"
     ]
    }
   ],
   "source": [
    "# Convert some columns as categorical for Multinomial NB\n",
    "df.ix[df['minimum_nights']>3,'minimum_nights'] = 4\n",
    "print df['minimum_nights'].value_counts() # 4 categories for minimum nights"
   ]
  },
  {
   "cell_type": "code",
   "execution_count": 10,
   "metadata": {
    "collapsed": false
   },
   "outputs": [
    {
     "name": "stdout",
     "output_type": "stream",
     "text": [
      "1    4191\n",
      "2    3143\n",
      "0    1710\n",
      "3     188\n",
      "Name: number_of_reviews, dtype: int64\n"
     ]
    }
   ],
   "source": [
    "for i in range(df.shape[0]):\n",
    "    n_reviews =  df.ix[i, 'number_of_reviews']\n",
    "    review_cat = 3\n",
    "    if n_reviews == 0:\n",
    "        review_cat = 0\n",
    "    elif n_reviews <=10:\n",
    "        review_cat = 1\n",
    "    elif n_reviews <=100:\n",
    "        review_cat = 2\n",
    "    df.ix[i, 'number_of_reviews'] = review_cat\n",
    "    \n",
    "print df['number_of_reviews'].value_counts() # 4 categories for number of reviews"
   ]
  },
  {
   "cell_type": "code",
   "execution_count": 11,
   "metadata": {
    "collapsed": false
   },
   "outputs": [
    {
     "name": "stdout",
     "output_type": "stream",
     "text": [
      "1    4483\n",
      "2    2711\n",
      "0    2038\n",
      "Name: num_page_saved, dtype: int64\n"
     ]
    }
   ],
   "source": [
    "for i in range(df.shape[0]):\n",
    "    n_saved =  df.ix[i, 'num_page_saved']\n",
    "    saved_cat = 2\n",
    "    if n_saved <= 10:\n",
    "        saved_cat = 0\n",
    "    elif n_saved <=100:\n",
    "        saved_cat = 1\n",
    "    df.ix[i, 'num_page_saved'] = saved_cat\n",
    "    \n",
    "print df['num_page_saved'].value_counts() # 3 categories for number of travellers who have saved the listings"
   ]
  },
  {
   "cell_type": "code",
   "execution_count": 12,
   "metadata": {
    "collapsed": true
   },
   "outputs": [],
   "source": [
    "# The columns property_type and bed_type have many values that correspond to very few records\n",
    "# For instances that have very small frequency count, we replace it with 'Other'\n",
    "df.loc[-df.property_type.isin(['House', 'Apartment', 'Condominium']), 'property_type'] = 'Other'\n",
    "df.loc[-df.bed_type.isin(['Real Bed']), 'bed_type'] = 'Other'"
   ]
  },
  {
   "cell_type": "code",
   "execution_count": 13,
   "metadata": {
    "collapsed": false
   },
   "outputs": [
    {
     "data": {
      "text/plain": [
       "(9202, 56)"
      ]
     },
     "execution_count": 13,
     "metadata": {},
     "output_type": "execute_result"
    }
   ],
   "source": [
    "# Remove NULL instances/records in columns - #bathrooms, #bedrooms, #beds\n",
    "df = df.drop(df[df.beds.isnull()].index)\n",
    "df = df.drop(df[df.bedrooms.isnull()].index)\n",
    "df = df.drop(df[df.bathrooms.isnull()].index)\n",
    "df = df.reset_index(drop=True)\n",
    "df.shape"
   ]
  },
  {
   "cell_type": "code",
   "execution_count": 14,
   "metadata": {
    "collapsed": false
   },
   "outputs": [
    {
     "name": "stdout",
     "output_type": "stream",
     "text": [
      "(9202, 56)\n"
     ]
    }
   ],
   "source": [
    "# The categorical variables need to be converted from string type to int type (for SKLEARN to process) \n",
    "property_type_dict = {'House':1, 'Apartment':2, 'Condominium':3, 'Other':4}\n",
    "bed_type_dict = {'Real Bed':1, 'Other':2}\n",
    "room_type_dict = {'Entire home/apt':1, 'Private room':2, 'Shared room':3}\n",
    "cancellation_type_dict = {'flexible':1, 'moderate':2, 'strict':3}\n",
    "instant_booking_dict = {'t':1, 'f':0}\n",
    "\n",
    "df['property_type'] = [property_type_dict[record] for record in df['property_type']]\n",
    "df['bed_type'] = [bed_type_dict[record] for record in df['bed_type']]\n",
    "df['room_type'] = [room_type_dict[record] for record in df['room_type']]\n",
    "df['cancellation_policy'] = [cancellation_type_dict[record] for record in df['cancellation_policy']]\n",
    "df['instant_bookable'] = [instant_booking_dict[record] for record in df['instant_bookable']]\n",
    "\n",
    "print df.shape"
   ]
  },
  {
   "cell_type": "markdown",
   "metadata": {},
   "source": [
    "### Naive Bayes Variations to be implemented"
   ]
  },
  {
   "cell_type": "markdown",
   "metadata": {},
   "source": [
    "<code>Different Variants of Naive Bayes Classifier that would be evaluated:\n",
    "1. NB_Numeric - Gaussian NB using only the numeric type variables\n",
    "2. NB_Categorical - Multinomial NB using only the categorical variables\n",
    "3. NB_Numeric_Binned - Convert numeric variables as categories by binning into H/M/L based on quantile values (equal bin sized) and then apply Multinomial NB\n",
    "4. NB_Categorical_Converted - First train Multinomial NB on categorical and get predicted probabilities, use the probability along with the other numeric variables to train a Gaussian NB\n",
    "5. NB_Numeric_Coverted - First train Gaussian NB on numeric and get predicted class labels, use these as features along with the other categorical variables to train a Multinomial NB\n",
    "6. NB_Combined - Separately train Multinomial NB on categorical and Gaussian NB on numeric variables. Then, use predicted probabilites as input to train a Gaussian NB\n",
    "\n",
    "Link: http://stackoverflow.com/questions/14254203/mixing-categorial-and-continuous-data-in-naive-bayes-classifier-using-scikit-lea\n",
    "\n",
    "10-fold cross validation is also done for all the above variants"
   ]
  },
  {
   "cell_type": "code",
   "execution_count": 27,
   "metadata": {
    "collapsed": false
   },
   "outputs": [],
   "source": [
    "# Same test and train sets to evaluate all the model variants\n",
    "X_train, X_test, y_train, y_test = train_test_split(df.ix[:,1:], df['price'], test_size=0.2, random_state=13)"
   ]
  },
  {
   "cell_type": "code",
   "execution_count": 28,
   "metadata": {
    "collapsed": false
   },
   "outputs": [],
   "source": [
    "numeric_columns = ['accommodates', 'bathrooms', 'bedrooms', 'beds', 'restaurant', 'atm', 'cinema', 'hospital',\n",
    "'nightclub', 'park', 'mall', 'gallery', 'museum', 'supermarket', 'bus_stop']\n",
    "\n",
    "categorical_columns = list(set(df.columns) - set(numeric_columns) - set(['price'])) # Set of all columns minus the numeric columns and price"
   ]
  },
  {
   "cell_type": "code",
   "execution_count": null,
   "metadata": {
    "collapsed": true
   },
   "outputs": [],
   "source": []
  },
  {
   "cell_type": "markdown",
   "metadata": {},
   "source": [
    "#### Variant 1: NB_Numeric"
   ]
  },
  {
   "cell_type": "code",
   "execution_count": 29,
   "metadata": {
    "collapsed": false
   },
   "outputs": [
    {
     "name": "stdout",
     "output_type": "stream",
     "text": [
      "Variant 1: NB_Numeric\n",
      "\n",
      " Accuracy on training set:  0.678004781569\n",
      "\n",
      " Confusion matix on training set:\n",
      "[[4187 1837]\n",
      " [1126 2052]]\n",
      "\n",
      " Accuracy scores from the 10 folds:\n",
      "[ 0.64603692  0.67861021  0.67752443  0.66883822  0.71413043  0.65217391\n",
      "  0.67282609  0.65869565  0.71164309  0.69423286]\n",
      "\n",
      " Average accuracy from 10-fold CV: 0.677471181107\n",
      "\n",
      " Accuracy on test set:  0.688756110809\n",
      "\n",
      " Confusion matix on training set:\n",
      "[[862 344]\n",
      " [229 406]]\n"
     ]
    },
    {
     "data": {
      "image/png": "[encoded data removed]",
      "text/plain": [
       "<matplotlib.figure.Figure at 0x7fc0852c8a10>"
      ]
     },
     "metadata": {},
     "output_type": "display_data"
    }
   ],
   "source": [
    "print \"Variant 1: NB_Numeric\"\n",
    "nb_numeric = GaussianNB()\n",
    "nb_numeric.fit(X=df[numeric_columns], y=df['price'])\n",
    "\n",
    "pred = nb_numeric.predict(X=df[numeric_columns])\n",
    "print \"\\n Accuracy on training set: \", accuracy_score(df['price'], pred)\n",
    "print \"\\n Confusion matix on training set:\\n\", confusion_matrix(df['price'], pred)\n",
    "\n",
    "# Randomly shuffling the records of the original data\n",
    "df_new = df.reindex(np.random.permutation(df.index))\n",
    "X = df_new[numeric_columns]\n",
    "y_true = df_new['price']\n",
    "\n",
    "# 10-Fold CV\n",
    "nb_numeric = GaussianNB()\n",
    "n_folds = 10\n",
    "scores = cross_val_score(nb_numeric, X=X, y=y_true, cv=n_folds) \n",
    "print \"\\n Accuracy scores from the 10 folds:\\n\", scores\n",
    "print \"\\n Average accuracy from 10-fold CV:\", scores.mean()\n",
    "\n",
    "nb_numeric = GaussianNB()\n",
    "nb_numeric.fit(X=X_train[numeric_columns], y=y_train)\n",
    "pred = nb_numeric.predict(X=X_test[numeric_columns])\n",
    "\n",
    "print \"\\n Accuracy on test set: \", accuracy_score(y_test, pred)\n",
    "print \"\\n Confusion matix on training set:\"\n",
    "plot_confusion_matrix(confusion_matrix(y_test, pred), classes=['cheap', 'expensive'])\n"
   ]
  },
  {
   "cell_type": "code",
   "execution_count": null,
   "metadata": {
    "collapsed": true
   },
   "outputs": [],
   "source": []
  },
  {
   "cell_type": "markdown",
   "metadata": {},
   "source": [
    "#### Variant 2: NB_Categorical"
   ]
  },
  {
   "cell_type": "code",
   "execution_count": 30,
   "metadata": {
    "collapsed": false
   },
   "outputs": [
    {
     "name": "stdout",
     "output_type": "stream",
     "text": [
      "Variant 2: NB_Categorical\n",
      "\n",
      " Accuracy on training set:  0.718213431863\n",
      "\n",
      " Confusion matix on training set:\n",
      "[[4907 1117]\n",
      " [1476 1702]]\n",
      "\n",
      " Accuracy scores from the 10 folds:\n",
      "[ 0.73072747  0.7111835   0.72964169  0.71986971  0.6923913   0.71630435\n",
      "  0.70543478  0.73152174  0.73340588  0.70293798]\n",
      "\n",
      " Average accuracy from 10-fold CV: 0.717341839292\n",
      "\n",
      " Accuracy on test set:  0.721347093971\n",
      "\n",
      " Confusion matix on training set:\n",
      "[[1002  204]\n",
      " [ 309  326]]\n"
     ]
    },
    {
     "data": {
      "image/png": "[encoded data removed]",
      "text/plain": [
       "<matplotlib.figure.Figure at 0x7fc08b3a4190>"
      ]
     },
     "metadata": {},
     "output_type": "display_data"
    }
   ],
   "source": [
    "print \"Variant 2: NB_Categorical\"\n",
    "nb_categorical = MultinomialNB()\n",
    "nb_categorical.fit(X=df[categorical_columns], y=df['price'])\n",
    "\n",
    "pred = nb_categorical.predict(X=df[categorical_columns])\n",
    "print \"\\n Accuracy on training set: \", accuracy_score(df['price'], pred)\n",
    "print \"\\n Confusion matix on training set:\\n\", confusion_matrix(df['price'], pred)\n",
    "\n",
    "# Randomly shuffling the records of the original data\n",
    "df_new = df.reindex(np.random.permutation(df.index))\n",
    "X = df_new[categorical_columns]\n",
    "y_true = df_new['price']\n",
    "\n",
    "# 10-Fold CV\n",
    "nb_numeric = MultinomialNB()\n",
    "n_folds = 10\n",
    "scores = cross_val_score(nb_categorical, X=X, y=y_true, cv=n_folds) \n",
    "print \"\\n Accuracy scores from the 10 folds:\\n\", scores\n",
    "print \"\\n Average accuracy from 10-fold CV:\", scores.mean()\n",
    "\n",
    "nb_categorical = MultinomialNB()\n",
    "nb_categorical.fit(X=X_train[categorical_columns], y=y_train)\n",
    "pred = nb_categorical.predict(X=X_test[categorical_columns])\n",
    "\n",
    "print \"\\n Accuracy on test set: \", accuracy_score(y_test, pred)\n",
    "print \"\\n Confusion matix on training set:\"\n",
    "plot_confusion_matrix(confusion_matrix(y_test, pred), classes=['cheap', 'expensive'])\n"
   ]
  },
  {
   "cell_type": "code",
   "execution_count": null,
   "metadata": {
    "collapsed": true
   },
   "outputs": [],
   "source": []
  },
  {
   "cell_type": "markdown",
   "metadata": {},
   "source": [
    "#### Variant 3: NB_Numeric_Binned"
   ]
  },
  {
   "cell_type": "code",
   "execution_count": 31,
   "metadata": {
    "collapsed": false
   },
   "outputs": [
    {
     "data": {
      "text/plain": [
       "1    3068\n",
       "3    3067\n",
       "2    3067\n",
       "dtype: int64"
      ]
     },
     "execution_count": 31,
     "metadata": {},
     "output_type": "execute_result"
    }
   ],
   "source": [
    "# Binning numeric variables\n",
    "# 3 equal bins by quartile cuts\n",
    "# 1-low, 2-medium, 3-high\n",
    "pd.Series(pd.qcut(df['atm'].rank(method='first').values, 3).codes + 1).value_counts() "
   ]
  },
  {
   "cell_type": "code",
   "execution_count": 32,
   "metadata": {
    "collapsed": false
   },
   "outputs": [],
   "source": [
    "df_new = df\n",
    "for col in numeric_columns:\n",
    "    df_new[col] = pd.qcut(df[col].rank(method='first').values, 3).codes + 1    "
   ]
  },
  {
   "cell_type": "code",
   "execution_count": 33,
   "metadata": {
    "collapsed": true
   },
   "outputs": [],
   "source": [
    "X_train, X_test, y_train, y_test = train_test_split(df_new.ix[:,1:], df_new['price'], test_size=0.2, random_state=13)"
   ]
  },
  {
   "cell_type": "code",
   "execution_count": 34,
   "metadata": {
    "collapsed": false
   },
   "outputs": [
    {
     "name": "stdout",
     "output_type": "stream",
     "text": [
      "Variant 3: NB_Numeric_Binned\n",
      "\n",
      " Accuracy on training set:  0.715387959139\n",
      "\n",
      " Confusion matix on training set:\n",
      "[[4682 1342]\n",
      " [1277 1901]]\n",
      "\n",
      " Accuracy scores from the 10 folds:\n",
      "[ 0.73615635  0.70901194  0.69815418  0.71335505  0.73043478  0.72826087\n",
      "  0.7173913   0.69565217  0.71273123  0.71055495]\n",
      "\n",
      " Average accuracy from 10-fold CV: 0.71517028355\n",
      "\n",
      " Accuracy on test set:  0.724606192287\n",
      "\n",
      " Confusion matix on training set:\n",
      "[[969 266]\n",
      " [241 365]]\n"
     ]
    },
    {
     "data": {
      "image/png": "[encoded data removed]",
      "text/plain": [
       "<matplotlib.figure.Figure at 0x7fc08ba4c750>"
      ]
     },
     "metadata": {},
     "output_type": "display_data"
    }
   ],
   "source": [
    "print \"Variant 3: NB_Numeric_Binned\"\n",
    "nb_numeric_binned = MultinomialNB()\n",
    "nb_numeric_binned.fit(X=df_new.ix[:,1:], y=df_new['price'])\n",
    "\n",
    "pred = nb_numeric_binned.predict(X=df_new.ix[:,1:])\n",
    "print \"\\n Accuracy on training set: \", accuracy_score(df_new['price'], pred)\n",
    "print \"\\n Confusion matix on training set:\\n\", confusion_matrix(df_new['price'], pred)\n",
    "\n",
    "# Randomly shuffling the records of the original data\n",
    "df_new = df_new.reindex(np.random.permutation(df_new.index))\n",
    "X = df_new.ix[:,1:]\n",
    "y_true = df_new['price']\n",
    "\n",
    "# 10-Fold CV\n",
    "nb_numeric_binned = MultinomialNB()\n",
    "n_folds = 10\n",
    "scores = cross_val_score(nb_numeric_binned, X=X, y=y_true, cv=n_folds) \n",
    "print \"\\n Accuracy scores from the 10 folds:\\n\", scores\n",
    "print \"\\n Average accuracy from 10-fold CV:\", scores.mean()\n",
    "\n",
    "nb_numeric_binned = MultinomialNB()\n",
    "nb_numeric_binned.fit(X=X_train, y=y_train)\n",
    "pred = nb_numeric_binned.predict(X=X_test)\n",
    "\n",
    "print \"\\n Accuracy on test set: \", accuracy_score(y_test, pred)\n",
    "print \"\\n Confusion matix on training set:\"\n",
    "plot_confusion_matrix(confusion_matrix(y_test, pred), classes=['cheap', 'expensive'])"
   ]
  },
  {
   "cell_type": "code",
   "execution_count": null,
   "metadata": {
    "collapsed": true
   },
   "outputs": [],
   "source": []
  },
  {
   "cell_type": "markdown",
   "metadata": {},
   "source": [
    "#### Variant 4: NB_Categorical_Converted"
   ]
  },
  {
   "cell_type": "code",
   "execution_count": 35,
   "metadata": {
    "collapsed": false
   },
   "outputs": [
    {
     "name": "stdout",
     "output_type": "stream",
     "text": [
      "Variant 4: NB_Categorical_Converted\n",
      "\n",
      " Accuracy on training set:  0.704846772441\n",
      "\n",
      " Confusion matix on training set:\n",
      "[[4399 1625]\n",
      " [1091 2087]]\n",
      "\n",
      " Accuracy scores from the 10 folds:\n",
      "[ 0.72964169  0.72529859  0.72204126  0.72747014  0.72826087  0.73043478\n",
      "  0.72934783  0.73695652  0.70946681  0.7203482 ]\n",
      "\n",
      " Average accuracy from 10-fold CV: 0.725926669928\n",
      "\n",
      " Accuracy on test set:  0.712112982075\n",
      "\n",
      " Confusion matix on training set:\n",
      "[[901 305]\n",
      " [225 410]]\n"
     ]
    },
    {
     "data": {
      "image/png": "[encoded data removed]",
      "text/plain": [
       "<matplotlib.figure.Figure at 0x7fc08b4ac990>"
      ]
     },
     "metadata": {},
     "output_type": "display_data"
    }
   ],
   "source": [
    "print \"Variant 4: NB_Categorical_Converted\"\n",
    "# The predicted probabilities of the Multinomial NB on the categorial variables is added as a feature\n",
    "nb_categorical = MultinomialNB()\n",
    "nb_categorical.fit(X=df[categorical_columns], y=df['price'])\n",
    "df_new = df\n",
    "df_new['mnb_prob'] = pd.DataFrame(nb_categorical.predict_proba(X=df[categorical_columns]))[0]\n",
    "\n",
    "nb_categorical_converted = GaussianNB()\n",
    "nb_categorical_converted.fit(X=df_new[numeric_columns+['mnb_prob']], y=df_new['price'])\n",
    "\n",
    "pred = nb_categorical_converted.predict(X=df_new[numeric_columns+['mnb_prob']])\n",
    "print \"\\n Accuracy on training set: \", accuracy_score(df_new['price'], pred)\n",
    "print \"\\n Confusion matix on training set:\\n\", confusion_matrix(df_new['price'], pred)\n",
    "\n",
    "X_train, X_test, y_train, y_test = train_test_split(df_new.ix[:,1:], df_new['price'], test_size=0.2, random_state=13)\n",
    "\n",
    "# Randomly shuffling the records of the original data\n",
    "df_new = df_new.reindex(np.random.permutation(df_new.index))\n",
    "X = df_new[numeric_columns+['mnb_prob']]\n",
    "y_true = df_new['price']\n",
    "\n",
    "# 10-Fold CV\n",
    "nb_categorical_converted = GaussianNB()\n",
    "n_folds = 10\n",
    "scores = cross_val_score(nb_numeric, X=X, y=y_true, cv=n_folds) \n",
    "print \"\\n Accuracy scores from the 10 folds:\\n\", scores\n",
    "print \"\\n Average accuracy from 10-fold CV:\", scores.mean()\n",
    "\n",
    "nb_categorical_converted = GaussianNB()\n",
    "nb_categorical_converted.fit(X=X_train[numeric_columns+['mnb_prob']], y=y_train)\n",
    "pred = nb_categorical_converted.predict(X=X_test[numeric_columns+['mnb_prob']])\n",
    "\n",
    "print \"\\n Accuracy on test set: \", accuracy_score(y_test, pred)\n",
    "print \"\\n Confusion matix on training set:\"\n",
    "plot_confusion_matrix(confusion_matrix(y_test, pred), classes=['cheap', 'expensive'])"
   ]
  },
  {
   "cell_type": "code",
   "execution_count": null,
   "metadata": {
    "collapsed": true
   },
   "outputs": [],
   "source": []
  },
  {
   "cell_type": "markdown",
   "metadata": {},
   "source": [
    "#### Variant 5: NB_Numeric_Converted"
   ]
  },
  {
   "cell_type": "code",
   "execution_count": 43,
   "metadata": {
    "collapsed": false
   },
   "outputs": [
    {
     "name": "stdout",
     "output_type": "stream",
     "text": [
      "Variant 5: NB_Numeric_Converted\n",
      "\n",
      " Accuracy on training set:  0.696153010215\n",
      "\n",
      " Confusion matix on training set:\n",
      "[[4555 1469]\n",
      " [1327 1851]]\n",
      "\n",
      " Accuracy scores from the 10 folds:\n",
      "[ 0.70141151  0.66558089  0.7111835   0.67643865  0.70326087  0.68152174\n",
      "  0.71956522  0.69891304  0.71164309  0.68008705]\n",
      "\n",
      " Average accuracy from 10-fold CV: 0.694960556043\n",
      "\n",
      " Accuracy on test set:  0.738185768604\n",
      "\n",
      " Confusion matix on training set:\n",
      "[[1005  230]\n",
      " [ 252  354]]\n"
     ]
    },
    {
     "data": {
      "image/png": "[encoded data removed]",
      "text/plain": [
       "<matplotlib.figure.Figure at 0x7fc08ba39190>"
      ]
     },
     "metadata": {},
     "output_type": "display_data"
    }
   ],
   "source": [
    "print \"Variant 5: NB_Numeric_Converted\"\n",
    "# The predicted class labels of the Gaussian NB on the numeric variables is added as a feature\n",
    "nb_numeric = GaussianNB()\n",
    "nb_numeric.fit(X=df[numeric_columns], y=df['price'])\n",
    "df_new = df\n",
    "df_new['gaussian_label'] = pd.DataFrame(nb_numeric.predict(X=df[numeric_columns]))[0]\n",
    "\n",
    "nb_numeric_converted = MultinomialNB()\n",
    "nb_numeric_converted.fit(X=df_new[numeric_columns+['gaussian_label']], y=df_new['price'])\n",
    "\n",
    "pred = nb_numeric_converted.predict(X=df_new[numeric_columns+['gaussian_label']])\n",
    "print \"\\n Accuracy on training set: \", accuracy_score(df_new['price'], pred)\n",
    "print \"\\n Confusion matix on training set:\\n\", confusion_matrix(df_new['price'], pred)\n",
    "\n",
    "X_train, X_test, y_train, y_test = train_test_split(df_new.ix[:,1:], df_new['price'], test_size=0.2, random_state=13)\n",
    "\n",
    "# Randomly shuffling the records of the original data\n",
    "df_new = df_new.reindex(np.random.permutation(df_new.index))\n",
    "X = df_new[categorical_columns+['gaussian_label']]\n",
    "y_true = df_new['price']\n",
    "\n",
    "# 10-Fold CV\n",
    "nb_numeric_converted = MultinomialNB()\n",
    "n_folds = 10\n",
    "scores = cross_val_score(nb_numeric, X=X, y=y_true, cv=n_folds) \n",
    "print \"\\n Accuracy scores from the 10 folds:\\n\", scores\n",
    "print \"\\n Average accuracy from 10-fold CV:\", scores.mean()\n",
    "\n",
    "nb_numeric_converted = MultinomialNB()\n",
    "nb_numeric_converted.fit(X=X_train[categorical_columns+['gaussian_label']], y=y_train)\n",
    "pred = nb_numeric_converted.predict(X=X_test[categorical_columns+['gaussian_label']])\n",
    "\n",
    "print \"\\n Accuracy on test set: \", accuracy_score(y_test, pred)\n",
    "print \"\\n Confusion matix on training set:\"\n",
    "plot_confusion_matrix(confusion_matrix(y_test, pred), classes=['cheap', 'expensive'])\n",
    "\n"
   ]
  },
  {
   "cell_type": "code",
   "execution_count": null,
   "metadata": {
    "collapsed": true
   },
   "outputs": [],
   "source": []
  },
  {
   "cell_type": "markdown",
   "metadata": {
    "collapsed": true
   },
   "source": [
    "#### Variant 6: NB_Combined"
   ]
  },
  {
   "cell_type": "code",
   "execution_count": 42,
   "metadata": {
    "collapsed": false
   },
   "outputs": [
    {
     "name": "stdout",
     "output_type": "stream",
     "text": [
      "Variant 6: NB_Combined\n",
      "\n",
      " Accuracy on training set:  0.731688763312\n",
      "\n",
      " Confusion matix on training set:\n",
      "[[4874 1150]\n",
      " [1319 1859]]\n",
      "\n",
      " Accuracy scores from the 10 folds:\n",
      "[ 0.72638436  0.72855592  0.72529859  0.72204126  0.71956522  0.74456522\n",
      "  0.73913043  0.74130435  0.73558215  0.72796518]\n",
      "\n",
      " Average accuracy from 10-fold CV: 0.731039268174\n",
      "\n",
      " Accuracy on test set:  0.74144486692\n",
      "\n",
      " Confusion matix on training set:\n",
      "[[1005  230]\n",
      " [ 246  360]]\n"
     ]
    },
    {
     "data": {
      "image/png": "[encoded data removed]",
      "text/plain": [
       "<matplotlib.figure.Figure at 0x7fc08b9955d0>"
      ]
     },
     "metadata": {},
     "output_type": "display_data"
    }
   ],
   "source": [
    "print \"Variant 6: NB_Combined\"\n",
    "# The predicted probabilities from Gaussian NB and Multinomial NB fed into a new Gaussian NB\n",
    "nb_numeric = GaussianNB()\n",
    "nb_numeric.fit(X=df[numeric_columns], y=df['price'])\n",
    "df_new = df\n",
    "df_new['gaussian_prob'] = pd.DataFrame(nb_numeric.predict_proba(X=df[numeric_columns]))[0]\n",
    "\n",
    "nb_categorical = MultinomialNB()\n",
    "nb_categorical.fit(X=df[categorical_columns], y=df['price'])\n",
    "df_new = df\n",
    "df_new['mnb_prob'] = pd.DataFrame(nb_categorical.predict_proba(X=df[categorical_columns]))[0]\n",
    "\n",
    "nb_combined = GaussianNB()\n",
    "nb_combined.fit(X=df_new[['mnb_prob', 'gaussian_prob']], y=df_new['price'])\n",
    "\n",
    "pred = nb_combined.predict(X=df_new[['mnb_prob', 'gaussian_prob']])\n",
    "print \"\\n Accuracy on training set: \", accuracy_score(df_new['price'], pred)\n",
    "print \"\\n Confusion matix on training set:\\n\", confusion_matrix(df_new['price'], pred)\n",
    "\n",
    "X_train, X_test, y_train, y_test = train_test_split(df_new.ix[:,1:], df_new['price'], test_size=0.2, random_state=13)\n",
    "\n",
    "# Randomly shuffling the records of the original data\n",
    "df_new = df_new.reindex(np.random.permutation(df_new.index))\n",
    "X = df_new[['mnb_prob', 'gaussian_prob']]\n",
    "y_true = df_new['price']\n",
    "\n",
    "# 10-Fold CV\n",
    "nb_combined = GaussianNB()\n",
    "n_folds = 10\n",
    "scores = cross_val_score(nb_combined, X=X, y=y_true, cv=n_folds) \n",
    "print \"\\n Accuracy scores from the 10 folds:\\n\", scores\n",
    "print \"\\n Average accuracy from 10-fold CV:\", scores.mean()\n",
    "\n",
    "nb_combined = GaussianNB()\n",
    "nb_combined.fit(X=X_train[['mnb_prob', 'gaussian_prob']], y=y_train)\n",
    "pred = nb_combined.predict(X=X_test[['mnb_prob', 'gaussian_prob']])\n",
    "\n",
    "print \"\\n Accuracy on test set: \", accuracy_score(y_test, pred)\n",
    "print \"\\n Confusion matix on training set:\"\n",
    "plot_confusion_matrix(confusion_matrix(y_test, pred), classes=['cheap', 'expensive'])"
   ]
  },
  {
   "cell_type": "code",
   "execution_count": null,
   "metadata": {
    "collapsed": true
   },
   "outputs": [],
   "source": []
  },
  {
   "cell_type": "code",
   "execution_count": null,
   "metadata": {
    "collapsed": true
   },
   "outputs": [],
   "source": []
  }
 ],
 "metadata": {
  "kernelspec": {
   "display_name": "Python 2",
   "language": "python",
   "name": "python2"
  },
  "language_info": {
   "codemirror_mode": {
    "name": "ipython",
    "version": 2
   },
   "file_extension": ".py",
   "mimetype": "text/x-python",
   "name": "python",
   "nbconvert_exporter": "python",
   "pygments_lexer": "ipython2",
   "version": "2.7.12"
  }
 },
 "nbformat": 4,
 "nbformat_minor": 1
}
