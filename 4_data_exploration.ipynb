{
 "cells": [
  {
   "cell_type": "code",
   "execution_count": 1,
   "metadata": {
    "collapsed": true
   },
   "outputs": [],
   "source": [
    "import pandas as pd\n",
    "from pandas import DataFrame\n",
    "import cPickle as pickle"
   ]
  },
  {
   "cell_type": "code",
   "execution_count": 11,
   "metadata": {
    "collapsed": true
   },
   "outputs": [],
   "source": [
    "with open('df_amenities_neighbourhood_all.pkl') as f:\n",
    "    df = pickle.load(f)"
   ]
  },
  {
   "cell_type": "code",
   "execution_count": 12,
   "metadata": {
    "collapsed": false
   },
   "outputs": [
    {
     "data": {
      "text/html": [
       "<div>\n",
       "<table border=\"1\" class=\"dataframe\">\n",
       "  <thead>\n",
       "    <tr style=\"text-align: right;\">\n",
       "      <th></th>\n",
       "      <th>id</th>\n",
       "      <th>name</th>\n",
       "      <th>summary</th>\n",
       "      <th>latitude</th>\n",
       "      <th>longitude</th>\n",
       "      <th>space</th>\n",
       "      <th>description</th>\n",
       "      <th>neighborhood_overview</th>\n",
       "      <th>notes</th>\n",
       "      <th>transit</th>\n",
       "      <th>...</th>\n",
       "      <th>atm</th>\n",
       "      <th>cinema</th>\n",
       "      <th>hospital</th>\n",
       "      <th>nightclub</th>\n",
       "      <th>park</th>\n",
       "      <th>mall</th>\n",
       "      <th>gallery</th>\n",
       "      <th>museum</th>\n",
       "      <th>supermarket</th>\n",
       "      <th>bus_stop</th>\n",
       "    </tr>\n",
       "  </thead>\n",
       "  <tbody>\n",
       "    <tr>\n",
       "      <th>0</th>\n",
       "      <td>8238835</td>\n",
       "      <td>Cozy BR + EnSuite @ York University</td>\n",
       "      <td>We are located at York University. Close to Yo...</td>\n",
       "      <td>43.768740</td>\n",
       "      <td>-79.502254</td>\n",
       "      <td>The house is located less than 100 meters from...</td>\n",
       "      <td>We are located at York University. Close to Yo...</td>\n",
       "      <td>Our house is ideal for students, professionals...</td>\n",
       "      <td>Please note, this room does not have a window....</td>\n",
       "      <td>The bus stop is right in front of our home on ...</td>\n",
       "      <td>...</td>\n",
       "      <td>509</td>\n",
       "      <td>5812</td>\n",
       "      <td>5400</td>\n",
       "      <td>1060</td>\n",
       "      <td>3269</td>\n",
       "      <td>7227</td>\n",
       "      <td>-1</td>\n",
       "      <td>9607</td>\n",
       "      <td>1709</td>\n",
       "      <td>72</td>\n",
       "    </tr>\n",
       "    <tr>\n",
       "      <th>1</th>\n",
       "      <td>16162206</td>\n",
       "      <td>Large sunny bedroom, 3d floor (3A)</td>\n",
       "      <td>This room is one of 4 bedrooms available in a ...</td>\n",
       "      <td>43.765573</td>\n",
       "      <td>-79.492943</td>\n",
       "      <td>NaN</td>\n",
       "      <td>This room is one of 4 bedrooms available in a ...</td>\n",
       "      <td>NaN</td>\n",
       "      <td>NaN</td>\n",
       "      <td>NaN</td>\n",
       "      <td>...</td>\n",
       "      <td>1212</td>\n",
       "      <td>5480</td>\n",
       "      <td>4588</td>\n",
       "      <td>1151</td>\n",
       "      <td>2694</td>\n",
       "      <td>6488</td>\n",
       "      <td>-1</td>\n",
       "      <td>9476</td>\n",
       "      <td>1213</td>\n",
       "      <td>77</td>\n",
       "    </tr>\n",
       "  </tbody>\n",
       "</table>\n",
       "<p>2 rows × 81 columns</p>\n",
       "</div>"
      ],
      "text/plain": [
       "         id                                 name  \\\n",
       "0   8238835  Cozy BR + EnSuite @ York University   \n",
       "1  16162206   Large sunny bedroom, 3d floor (3A)   \n",
       "\n",
       "                                             summary   latitude  longitude  \\\n",
       "0  We are located at York University. Close to Yo...  43.768740 -79.502254   \n",
       "1  This room is one of 4 bedrooms available in a ...  43.765573 -79.492943   \n",
       "\n",
       "                                               space  \\\n",
       "0  The house is located less than 100 meters from...   \n",
       "1                                                NaN   \n",
       "\n",
       "                                         description  \\\n",
       "0  We are located at York University. Close to Yo...   \n",
       "1  This room is one of 4 bedrooms available in a ...   \n",
       "\n",
       "                               neighborhood_overview  \\\n",
       "0  Our house is ideal for students, professionals...   \n",
       "1                                                NaN   \n",
       "\n",
       "                                               notes  \\\n",
       "0  Please note, this room does not have a window....   \n",
       "1                                                NaN   \n",
       "\n",
       "                                             transit   ...      atm cinema  \\\n",
       "0  The bus stop is right in front of our home on ...   ...      509   5812   \n",
       "1                                                NaN   ...     1212   5480   \n",
       "\n",
       "  hospital  nightclub  park  mall gallery  museum  supermarket bus_stop  \n",
       "0     5400       1060  3269  7227      -1    9607         1709       72  \n",
       "1     4588       1151  2694  6488      -1    9476         1213       77  \n",
       "\n",
       "[2 rows x 81 columns]"
      ]
     },
     "execution_count": 12,
     "metadata": {},
     "output_type": "execute_result"
    }
   ],
   "source": [
    "df.head(2)"
   ]
  },
  {
   "cell_type": "code",
   "execution_count": null,
   "metadata": {
    "collapsed": true
   },
   "outputs": [],
   "source": []
  }
 ],
 "metadata": {
  "kernelspec": {
   "display_name": "Python 2",
   "language": "python",
   "name": "python2"
  },
  "language_info": {
   "codemirror_mode": {
    "name": "ipython",
    "version": 2
   },
   "file_extension": ".py",
   "mimetype": "text/x-python",
   "name": "python",
   "nbconvert_exporter": "python",
   "pygments_lexer": "ipython2",
   "version": "2.7.12"
  }
 },
 "nbformat": 4,
 "nbformat_minor": 1
}
