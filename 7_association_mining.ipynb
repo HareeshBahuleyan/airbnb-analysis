{
 "cells": [
  {
   "cell_type": "code",
   "execution_count": 1,
   "metadata": {
    "collapsed": true
   },
   "outputs": [],
   "source": [
    "import cPickle as pickle\n",
    "import pandas as pd"
   ]
  },
  {
   "cell_type": "code",
   "execution_count": 2,
   "metadata": {
    "collapsed": true
   },
   "outputs": [],
   "source": [
    "with open('df_amenities_neighbourhood_all_processed.pkl', 'rb') as f:\n",
    "    df = pickle.load(f)"
   ]
  },
  {
   "cell_type": "markdown",
   "metadata": {},
   "source": [
    "<code>\n",
    "For implementing the apriori algorithm in Orange,\n",
    "we need to re-organize the data as 'market basket'. Example:\n",
    "Bread, Milk\n",
    "Bread, Diapers, Beer, Eggs\n",
    "Milk, Diapers, Beer, Cola\n",
    "Bread, Milk, Diapers, Beer\n",
    "Bread, Milk, Diapers, Cola\n",
    "\n",
    "Ref: http://docs.orange.biolab.si/2/reference/rst/Orange.associate.html\n",
    "</code>"
   ]
  },
  {
   "cell_type": "code",
   "execution_count": 3,
   "metadata": {
    "collapsed": false
   },
   "outputs": [],
   "source": [
    "# We only require the columns which are in-house amenities (which are binary)\n",
    "# Subset the data to include only these columns\n",
    "cols = [u'Elevator in building', u'Internet', u'Family/kid friendly', u'Wireless Internet',\n",
    "        u'Buzzer/wireless intercom', u'Kitchen', u'Doorman', u'Wheelchair accessible',\n",
    "        u'Cable TV', u'Hot tub', u'Gym', u'Pool', u'TV', u'Dryer', u'Washer', u'Essentials', u'Shampoo',\n",
    "        u'Heating', u'Air conditioning', u'Pets allowed', u'Suitable for events', \n",
    "        u'Smoking allowed', u'Indoor fireplace', u'Breakfast', u'Laptop friendly workspace', u'Iron',u'Hangers',\n",
    "        u'Hair dryer',u'Private living room',u'Private entrance']\n",
    "df = df.ix[:,cols]"
   ]
  },
  {
   "cell_type": "code",
   "execution_count": 4,
   "metadata": {
    "collapsed": false
   },
   "outputs": [
    {
     "data": {
      "text/plain": [
       "Elevator in building         0\n",
       "Internet                     1\n",
       "Family/kid friendly          1\n",
       "Wireless Internet            1\n",
       "Buzzer/wireless intercom     0\n",
       "Kitchen                      1\n",
       "Doorman                      0\n",
       "Wheelchair accessible        0\n",
       "Cable TV                     0\n",
       "Hot tub                      0\n",
       "Gym                          0\n",
       "Pool                         0\n",
       "TV                           0\n",
       "Dryer                        1\n",
       "Washer                       1\n",
       "Essentials                   1\n",
       "Shampoo                      1\n",
       "Heating                      1\n",
       "Air conditioning             1\n",
       "Pets allowed                 0\n",
       "Suitable for events          0\n",
       "Smoking allowed              0\n",
       "Indoor fireplace             0\n",
       "Breakfast                    0\n",
       "Laptop friendly workspace    1\n",
       "Iron                         1\n",
       "Hangers                      1\n",
       "Hair dryer                   1\n",
       "Private living room          0\n",
       "Private entrance             0\n",
       "Name: 0, dtype: int64"
      ]
     },
     "execution_count": 4,
     "metadata": {},
     "output_type": "execute_result"
    }
   ],
   "source": [
    "record = df.loc[0] # Sample record\n",
    "record"
   ]
  },
  {
   "cell_type": "code",
   "execution_count": 5,
   "metadata": {
    "collapsed": false
   },
   "outputs": [
    {
     "data": {
      "text/plain": [
       "u'Internet, Family/kid friendly, Wireless Internet, Kitchen, Dryer, Washer, Essentials, Shampoo, Heating, Air conditioning, Laptop friendly workspace, Iron, Hangers, Hair dryer'"
      ]
     },
     "execution_count": 5,
     "metadata": {},
     "output_type": "execute_result"
    }
   ],
   "source": [
    "# We require only the amenities that are present (value = 1)\n",
    "', '.join(record[record==1].index) # Comma-separated"
   ]
  },
  {
   "cell_type": "code",
   "execution_count": 6,
   "metadata": {
    "collapsed": true
   },
   "outputs": [],
   "source": [
    "# Store this info in a string\n",
    "# One line for each record \n",
    "amenities_string = ''\n",
    "for i in range(df.shape[0]):\n",
    "    record = df.loc[i] \n",
    "    amenities_string += ', '.join(record[record==1].index) + '\\n'"
   ]
  },
  {
   "cell_type": "code",
   "execution_count": 7,
   "metadata": {
    "collapsed": false
   },
   "outputs": [
    {
     "name": "stdout",
     "output_type": "stream",
     "text": [
      "Internet, Family/kid friendly, Wireless Internet, Kitchen, Dryer, Washer, Essentials, Shampoo, Heating, Air conditioning, Laptop friendly workspace, Iron, Hangers, Hair dryer\n",
      "Family/kid friendly, Wireless Internet, Kitchen, Gym, Pool, TV, Dryer, Washer, Essentials, Shampoo, Heating, Air conditioning, Indoor fireplace, Laptop friendly workspace, Hangers\n",
      "Elevator in building, Internet, Family/kid friendly, Wireless Internet, Kitchen, Wheelchair accessible, Dryer, Washer, Essentials, Shampoo, Heating, Laptop friendly workspace, Iron, Hangers\n",
      "Internet, Family/kid friendly, Wireless Internet, Kitchen, Cable TV, Dryer, Washer, Essentials, Shampoo, Heating, Air conditioning, Laptop friendly workspace, Iron, Hangers, Hair dryer\n",
      "Internet, Wireless Internet, Kitchen, Cable TV, Gym, TV, Dryer, Washer, Essentials, Shampoo, Heating, Air conditioning, Indoor fireplace, Laptop friendly workspace, Iron, Hangers, Hair dryer\n",
      "Wireless Internet, Kitchen, TV, Dryer, Washer, Essentials, Shampoo, Heating, Ai\n"
     ]
    }
   ],
   "source": [
    "print amenities_string[:1000]"
   ]
  },
  {
   "cell_type": "code",
   "execution_count": 8,
   "metadata": {
    "collapsed": true
   },
   "outputs": [],
   "source": [
    "with open('association-mining/airbnb-amenities.basket', 'w') as f: # Save string as .basket (orange format)\n",
    "    f.write(amenities_string)"
   ]
  },
  {
   "cell_type": "code",
   "execution_count": null,
   "metadata": {
    "collapsed": true
   },
   "outputs": [],
   "source": []
  },
  {
   "cell_type": "markdown",
   "metadata": {},
   "source": [
    "### Association Rule Mining in Orange"
   ]
  },
  {
   "cell_type": "code",
   "execution_count": 1,
   "metadata": {
    "collapsed": true
   },
   "outputs": [],
   "source": [
    "import Orange"
   ]
  },
  {
   "cell_type": "code",
   "execution_count": 3,
   "metadata": {
    "collapsed": false
   },
   "outputs": [
    {
     "name": "stdout",
     "output_type": "stream",
     "text": [
      "Number of Frequent Itemsets that satisfy the support threshold of (0.50) is 578\n"
     ]
    }
   ],
   "source": [
    "# Get frequent itemsets\n",
    "data = Orange.data.Table(\"association-mining/airbnb-amenities.basket\")\n",
    "\n",
    "s_threshold = 0.5\n",
    "ind = Orange.associate.AssociationRulesSparseInducer(support=s_threshold, storeExamples = True) # Specify the support threshold\n",
    "itemsets = ind.get_itemsets(data)\n",
    "\n",
    "print \"Number of Frequent Itemsets that satisfy the support threshold of (%4.2f) is %d\" % (s_threshold, len(itemsets))"
   ]
  },
  {
   "cell_type": "code",
   "execution_count": 11,
   "metadata": {
    "collapsed": false
   },
   "outputs": [
    {
     "name": "stdout",
     "output_type": "stream",
     "text": [
      "(0.69) TV\n",
      "(0.60) TV, Air conditioning\n",
      "(0.59) TV, Air conditioning, Heating\n",
      "(0.54) TV, Air conditioning, Heating, Essentials\n",
      "(0.53) TV, Air conditioning, Heating, Essentials, Kitchen\n",
      "(0.52) TV, Air conditioning, Heating, Essentials, Kitchen, Wireless Internet\n",
      "(0.53) TV, Air conditioning, Heating, Essentials, Wireless Internet\n",
      "(0.51) TV, Air conditioning, Heating, Washer\n",
      "(0.51) TV, Air conditioning, Heating, Washer, Dryer\n",
      "(0.50) TV, Air conditioning, Heating, Washer, Dryer, Kitchen\n",
      "(0.50) TV, Air conditioning, Heating, Washer, Dryer, Wireless Internet\n",
      "(0.51) TV, Air conditioning, Heating, Washer, Kitchen\n",
      "(0.50) TV, Air conditioning, Heating, Washer, Kitchen, Wireless Internet\n",
      "(0.51) TV, Air conditioning, Heating, Washer, Wireless Internet\n",
      "(0.51) TV, Air conditioning, Heating, Dryer\n"
     ]
    }
   ],
   "source": [
    "for itemset, tids in itemsets[:15]: # First 15 itemsets\n",
    "    print \"(%4.2f) %s\" % (len(tids)/float(len(data)),\n",
    "                          \", \".join(data.domain[item].name for item in itemset))"
   ]
  },
  {
   "cell_type": "code",
   "execution_count": 12,
   "metadata": {
    "collapsed": false
   },
   "outputs": [
    {
     "name": "stdout",
     "output_type": "stream",
     "text": [
      "Number of Rules that satisfy the support threshold of (0.50) and confidence threshold of (0.90) is 386\n",
      "Supp Conf  Rule\n",
      " 0.7  1.0  TV -> Heating\n",
      " 0.7  1.0  TV -> Heating Kitchen\n",
      " 0.7  1.0  TV Heating -> Kitchen\n",
      " 0.7  1.0  TV Kitchen -> Heating\n",
      " 0.7  0.9  TV -> Heating Kitchen Wireless Internet\n",
      " 0.7  1.0  TV Heating -> Kitchen Wireless Internet\n",
      " 0.7  1.0  TV Heating Kitchen -> Wireless Internet\n",
      " 0.7  1.0  TV Heating Wireless Internet -> Kitchen\n",
      " 0.7  1.0  TV Kitchen -> Heating Wireless Internet\n",
      " 0.7  1.0  TV Kitchen Wireless Internet -> Heating\n",
      " 0.7  1.0  TV Wireless Internet -> Heating Kitchen\n",
      " 0.7  1.0  TV -> Heating Wireless Internet\n",
      " 0.7  1.0  TV Heating -> Wireless Internet\n",
      " 0.7  1.0  TV Wireless Internet -> Heating\n",
      " 0.6  0.9  TV -> Essentials\n"
     ]
    }
   ],
   "source": [
    "conf_threshold = 0.9\n",
    "rules = Orange.associate.AssociationRulesSparseInducer(data, support=s_threshold, confidence=conf_threshold)\n",
    "\n",
    "print \"Number of Rules that satisfy the support threshold of (%4.2f) and confidence threshold of (%4.2f) is %d\" % (s_threshold, conf_threshold, len(rules))\n",
    "\n",
    "print \"%4s %4s  %s\" % (\"Supp\", \"Conf\", \"Rule\")\n",
    "for r in rules[:15]: # First 15 rules\n",
    "    print \"%4.1f %4.1f  %s\" % (r.support, r.confidence, r)"
   ]
  },
  {
   "cell_type": "code",
   "execution_count": 13,
   "metadata": {
    "collapsed": false
   },
   "outputs": [],
   "source": [
    "# Store all frequent itemsets and rules into strings and save them as txt files\n",
    "itemsets_str = \"Support \\t Itemset \\n\"\n",
    "for itemset, tids in itemsets: \n",
    "    itemsets_str += \"(%4.2f) \\t %s\" % (len(tids)/float(len(data)),\n",
    "                          \", \".join(data.domain[item].name for item in itemset)) + '\\n'\n",
    "\n",
    "with open('association-mining/frequent_itemsets_airbnb_amenities.txt', 'w') as f:\n",
    "    f.write(itemsets_str)\n",
    "    \n",
    "rules_str = \"Supp, Conf, Rule \\n\"\n",
    "for r in rules:\n",
    "    rules_str += \"%4.1f %4.1f  %s\" % (r.support, r.confidence, r) + '\\n'\n",
    "    \n",
    "with open('association-mining/rules_airbnb_amenities.txt', 'w') as f:\n",
    "    f.write(rules_str)\n"
   ]
  },
  {
   "cell_type": "code",
   "execution_count": null,
   "metadata": {
    "collapsed": true
   },
   "outputs": [],
   "source": []
  }
 ],
 "metadata": {
  "kernelspec": {
   "display_name": "Python 2",
   "language": "python",
   "name": "python2"
  },
  "language_info": {
   "codemirror_mode": {
    "name": "ipython",
    "version": 2
   },
   "file_extension": ".py",
   "mimetype": "text/x-python",
   "name": "python",
   "nbconvert_exporter": "python",
   "pygments_lexer": "ipython2",
   "version": "2.7.12"
  }
 },
 "nbformat": 4,
 "nbformat_minor": 1
}
